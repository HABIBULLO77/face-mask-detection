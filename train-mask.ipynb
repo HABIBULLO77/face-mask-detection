{
 "cells": [
  {
   "cell_type": "code",
   "execution_count": 2,
   "source": [
    "from tensorflow.keras.preprocessing.image import ImageDataGenerator\r\n",
    "from tensorflow.keras.applications import MobileNetV2\r\n",
    "from tensorflow.keras.layers import AveragePooling2D\r\n",
    "from tensorflow.keras.layers import Dropout\r\n",
    "from tensorflow.keras.layers import Flatten\r\n",
    "from tensorflow.keras.layers import Dense\r\n",
    "from tensorflow.keras.layers import Input\r\n",
    "from tensorflow.keras.models import Model\r\n",
    "from tensorflow.keras.optimizers import Adam\r\n",
    "from tensorflow.keras.applications.mobilenet_v2 import preprocess_input\r\n",
    "from tensorflow.keras.preprocessing.image import img_to_array\r\n",
    "from tensorflow.keras.preprocessing.image import load_img\r\n",
    "from tensorflow.keras.utils import to_categorical\r\n",
    "from sklearn.preprocessing import LabelBinarizer\r\n",
    "from sklearn.model_selection import train_test_split\r\n",
    "from sklearn.metrics import classification_report\r\n",
    "from imutils import paths\r\n",
    "import matplotlib.pyplot as plt\r\n",
    "import numpy as np\r\n",
    "import os"
   ],
   "outputs": [],
   "metadata": {}
  },
  {
   "cell_type": "code",
   "execution_count": 3,
   "source": [
    "#initial learning rate, number of epoch to train and batch size\r\n",
    "INIT_LR = 1e-4\r\n",
    "EPOCHS = 20\r\n",
    "BS = 32\r\n",
    "\r\n",
    "DIRECTORY = r\"D:\\Projects\\AI\\face-mask-detection\\dataset\"\r\n",
    "CATEGORIES = [\"with_mask\", \"without_mask\"]\r\n",
    "\r\n",
    "print(\"[INFO] loading images...\")\r\n",
    "\r\n",
    "data = []\r\n",
    "labels = []\r\n"
   ],
   "outputs": [
    {
     "output_type": "stream",
     "name": "stdout",
     "text": [
      "[INFO] loading images...\n"
     ]
    }
   ],
   "metadata": {}
  },
  {
   "cell_type": "code",
   "execution_count": 4,
   "source": [
    "for category in CATEGORIES:\r\n",
    "    path = os.path.join(DIRECTORY, category)\r\n",
    "    for img in os.listdir(path):\r\n",
    "    \timg_path = os.path.join(path, img)\r\n",
    "    \timage = load_img(img_path, target_size=(224, 224))\r\n",
    "    \timage = img_to_array(image)\r\n",
    "    \timage = preprocess_input(image)\r\n",
    "\r\n",
    "    \tdata.append(image)\r\n",
    "    \tlabels.append(category)"
   ],
   "outputs": [
    {
     "output_type": "stream",
     "name": "stderr",
     "text": [
      "C:\\Users\\ADMIN\\AppData\\Local\\Programs\\Python\\Python39\\lib\\site-packages\\PIL\\Image.py:962: UserWarning: Palette images with Transparency expressed in bytes should be converted to RGBA images\n",
      "  warnings.warn(\n"
     ]
    }
   ],
   "metadata": {}
  },
  {
   "cell_type": "code",
   "execution_count": 5,
   "source": [
    "#perform one-hot encoding on the labels\r\n",
    "lb = LabelBinarizer()\r\n",
    "labels = lb.fit_transform(labels)\r\n",
    "labels = to_categorical(labels)\r\n",
    "\r\n",
    "data = np.array(data, dtype=\"float32\")\r\n",
    "labels = np.array(labels)\r\n",
    "\r\n",
    "(trainX, testX, trainY, testY) = train_test_split(data, labels,\r\n",
    "\ttest_size=0.20, stratify=labels, random_state=42)"
   ],
   "outputs": [],
   "metadata": {}
  },
  {
   "cell_type": "code",
   "execution_count": 7,
   "source": [
    "#construct the training image generator for data augmentation\r\n",
    "aug = ImageDataGenerator(\r\n",
    "\trotation_range=20,\r\n",
    "\tzoom_range=0.15,\r\n",
    "\twidth_shift_range=0.2,\r\n",
    "\theight_shift_range=0.2,\r\n",
    "\tshear_range=0.15,\r\n",
    "\thorizontal_flip=True,\r\n",
    "\tfill_mode=\"nearest\")"
   ],
   "outputs": [],
   "metadata": {}
  },
  {
   "cell_type": "code",
   "execution_count": 8,
   "source": [
    "#load the MobileNetV2 network, in order to make sure the head FC layer sets are left off\r\n",
    "baseModel = MobileNetV2(weights=\"imagenet\", include_top=False,\r\n",
    "\tinput_tensor=Input(shape=(224, 224, 3)))"
   ],
   "outputs": [
    {
     "output_type": "stream",
     "name": "stdout",
     "text": [
      "WARNING:tensorflow:`input_shape` is undefined or non-square, or `rows` is not in [96, 128, 160, 192, 224]. Weights for input shape (224, 224) will be loaded as the default.\n",
      "Downloading data from https://storage.googleapis.com/tensorflow/keras-applications/mobilenet_v2/mobilenet_v2_weights_tf_dim_ordering_tf_kernels_1.0_224_no_top.h5\n",
      "9412608/9406464 [==============================] - 1s 0us/step\n"
     ]
    }
   ],
   "metadata": {}
  },
  {
   "cell_type": "code",
   "execution_count": 9,
   "source": [
    "# construct the head of the model that will be placed on top of the the base model\r\n",
    "headModel = baseModel.output\r\n",
    "headModel = AveragePooling2D(pool_size=(7, 7))(headModel)\r\n",
    "headModel = Flatten(name=\"flatten\")(headModel)\r\n",
    "headModel = Dense(128, activation=\"relu\")(headModel)\r\n",
    "headModel = Dropout(0.5)(headModel)\r\n",
    "headModel = Dense(2, activation=\"softmax\")(headModel)"
   ],
   "outputs": [],
   "metadata": {}
  },
  {
   "cell_type": "code",
   "execution_count": 10,
   "source": [
    "#place the head FC model on top of the base model (this will become the actual model I train)\r\n",
    "model = Model(inputs=baseModel.input, outputs=headModel)"
   ],
   "outputs": [],
   "metadata": {}
  },
  {
   "cell_type": "code",
   "execution_count": 11,
   "source": [
    "#loop over all layers in the base model and freeze them so they will #not be updated during the first training process\r\n",
    "for layer in baseModel.layers:\r\n",
    "\tlayer.trainable = False"
   ],
   "outputs": [],
   "metadata": {}
  },
  {
   "cell_type": "code",
   "execution_count": 12,
   "source": [
    "# compile the model\r\n",
    "print(\"[INFO] compiling model...\")\r\n",
    "opt = Adam(lr=INIT_LR, decay=INIT_LR / EPOCHS)\r\n",
    "model.compile(loss=\"binary_crossentropy\", optimizer=opt,\r\n",
    "\tmetrics=[\"accuracy\"])"
   ],
   "outputs": [
    {
     "output_type": "stream",
     "name": "stdout",
     "text": [
      "[INFO] compiling model...\n"
     ]
    },
    {
     "output_type": "stream",
     "name": "stderr",
     "text": [
      "C:\\Users\\ADMIN\\AppData\\Local\\Programs\\Python\\Python39\\lib\\site-packages\\tensorflow\\python\\keras\\optimizer_v2\\optimizer_v2.py:374: UserWarning: The `lr` argument is deprecated, use `learning_rate` instead.\n",
      "  warnings.warn(\n"
     ]
    }
   ],
   "metadata": {}
  },
  {
   "cell_type": "code",
   "execution_count": 13,
   "source": [
    "# train the head of the network\r\n",
    "print(\"[INFO] training head...\")\r\n",
    "H = model.fit(\r\n",
    "\taug.flow(trainX, trainY, batch_size=BS),\r\n",
    "\tsteps_per_epoch=len(trainX) // BS,\r\n",
    "\tvalidation_data=(testX, testY),\r\n",
    "\tvalidation_steps=len(testX) // BS,\r\n",
    "\tepochs=EPOCHS)"
   ],
   "outputs": [
    {
     "output_type": "stream",
     "name": "stdout",
     "text": [
      "[INFO] training head...\n",
      "Epoch 1/20\n",
      "95/95 [==============================] - 80s 804ms/step - loss: 0.5782 - accuracy: 0.7603 - val_loss: 0.1351 - val_accuracy: 0.9896\n",
      "Epoch 2/20\n",
      "95/95 [==============================] - 77s 804ms/step - loss: 0.1755 - accuracy: 0.9529 - val_loss: 0.0695 - val_accuracy: 0.9935\n",
      "Epoch 3/20\n",
      "95/95 [==============================] - 74s 781ms/step - loss: 0.1122 - accuracy: 0.9702 - val_loss: 0.0531 - val_accuracy: 0.9935\n",
      "Epoch 4/20\n",
      "95/95 [==============================] - 74s 779ms/step - loss: 0.0758 - accuracy: 0.9836 - val_loss: 0.0431 - val_accuracy: 0.9935\n",
      "Epoch 5/20\n",
      "95/95 [==============================] - 75s 792ms/step - loss: 0.0706 - accuracy: 0.9834 - val_loss: 0.0389 - val_accuracy: 0.9935\n",
      "Epoch 6/20\n",
      "95/95 [==============================] - 74s 780ms/step - loss: 0.0543 - accuracy: 0.9844 - val_loss: 0.0355 - val_accuracy: 0.9935\n",
      "Epoch 7/20\n",
      "95/95 [==============================] - 75s 789ms/step - loss: 0.0546 - accuracy: 0.9814 - val_loss: 0.0348 - val_accuracy: 0.9935\n",
      "Epoch 8/20\n",
      "95/95 [==============================] - 76s 800ms/step - loss: 0.0462 - accuracy: 0.9837 - val_loss: 0.0303 - val_accuracy: 0.9948\n",
      "Epoch 9/20\n",
      "95/95 [==============================] - 73s 762ms/step - loss: 0.0394 - accuracy: 0.9864 - val_loss: 0.0305 - val_accuracy: 0.9935\n",
      "Epoch 10/20\n",
      "95/95 [==============================] - 89s 940ms/step - loss: 0.0459 - accuracy: 0.9874 - val_loss: 0.0293 - val_accuracy: 0.9922\n",
      "Epoch 11/20\n",
      "95/95 [==============================] - 82s 862ms/step - loss: 0.0388 - accuracy: 0.9919 - val_loss: 0.0281 - val_accuracy: 0.9922\n",
      "Epoch 12/20\n",
      "95/95 [==============================] - 82s 864ms/step - loss: 0.0343 - accuracy: 0.9907 - val_loss: 0.0278 - val_accuracy: 0.9935\n",
      "Epoch 13/20\n",
      "95/95 [==============================] - 77s 806ms/step - loss: 0.0293 - accuracy: 0.9934 - val_loss: 0.0262 - val_accuracy: 0.9935\n",
      "Epoch 14/20\n",
      "95/95 [==============================] - 76s 803ms/step - loss: 0.0306 - accuracy: 0.9908 - val_loss: 0.0260 - val_accuracy: 0.9922\n",
      "Epoch 15/20\n",
      "95/95 [==============================] - 77s 809ms/step - loss: 0.0318 - accuracy: 0.9925 - val_loss: 0.0243 - val_accuracy: 0.9935\n",
      "Epoch 16/20\n",
      "95/95 [==============================] - 75s 792ms/step - loss: 0.0347 - accuracy: 0.9896 - val_loss: 0.0301 - val_accuracy: 0.9909\n",
      "Epoch 17/20\n",
      "95/95 [==============================] - 75s 792ms/step - loss: 0.0310 - accuracy: 0.9905 - val_loss: 0.0281 - val_accuracy: 0.9909\n",
      "Epoch 18/20\n",
      "95/95 [==============================] - 76s 797ms/step - loss: 0.0241 - accuracy: 0.9952 - val_loss: 0.0263 - val_accuracy: 0.9935\n",
      "Epoch 19/20\n",
      "95/95 [==============================] - 76s 795ms/step - loss: 0.0485 - accuracy: 0.9872 - val_loss: 0.0233 - val_accuracy: 0.9935\n",
      "Epoch 20/20\n",
      "95/95 [==============================] - 78s 817ms/step - loss: 0.0238 - accuracy: 0.9922 - val_loss: 0.0249 - val_accuracy: 0.9948\n"
     ]
    }
   ],
   "metadata": {}
  },
  {
   "cell_type": "code",
   "execution_count": 14,
   "source": [
    "# make predictions on the testing set\r\n",
    "print(\"[INFO] evaluating network...\")\r\n",
    "predIdxs = model.predict(testX, batch_size=BS)\r\n",
    "\r\n",
    "# for each image in the testing set we need to find the index of the\r\n",
    "# label with corresponding largest predicted probability\r\n",
    "predIdxs = np.argmax(predIdxs, axis=1)"
   ],
   "outputs": [
    {
     "output_type": "stream",
     "name": "stdout",
     "text": [
      "[INFO] evaluating network...\n"
     ]
    }
   ],
   "metadata": {}
  },
  {
   "cell_type": "code",
   "execution_count": 15,
   "source": [
    "# show a nicely formatted classification report\r\n",
    "print(classification_report(testY.argmax(axis=1), predIdxs,\r\n",
    "\ttarget_names=lb.classes_))\r\n",
    "\r\n",
    "# serialize the model to disk\r\n",
    "print(\"[INFO] saving mask detector model...\")\r\n",
    "model.save(\"mask_detector.model\", save_format=\"h5\")"
   ],
   "outputs": [
    {
     "output_type": "stream",
     "name": "stdout",
     "text": [
      "              precision    recall  f1-score   support\n",
      "\n",
      "   with_mask       0.99      1.00      0.99       383\n",
      "without_mask       1.00      0.99      0.99       384\n",
      "\n",
      "    accuracy                           0.99       767\n",
      "   macro avg       0.99      0.99      0.99       767\n",
      "weighted avg       0.99      0.99      0.99       767\n",
      "\n",
      "[INFO] saving mask detector model...\n"
     ]
    },
    {
     "output_type": "stream",
     "name": "stderr",
     "text": [
      "C:\\Users\\ADMIN\\AppData\\Local\\Programs\\Python\\Python39\\lib\\site-packages\\tensorflow\\python\\keras\\utils\\generic_utils.py:494: CustomMaskWarning: Custom mask layers require a config and must override get_config. When loading, the custom mask layer must be passed to the custom_objects argument.\n",
      "  warnings.warn('Custom mask layers require a config and must override '\n"
     ]
    }
   ],
   "metadata": {}
  },
  {
   "cell_type": "code",
   "execution_count": 16,
   "source": [
    "# plot the training loss and accuracy\r\n",
    "N = EPOCHS\r\n",
    "plt.style.use(\"ggplot\")\r\n",
    "plt.figure()\r\n",
    "plt.plot(np.arange(0, N), H.history[\"loss\"], label=\"train_loss\")\r\n",
    "plt.plot(np.arange(0, N), H.history[\"val_loss\"], label=\"val_loss\")\r\n",
    "plt.plot(np.arange(0, N), H.history[\"accuracy\"], label=\"train_acc\")\r\n",
    "plt.plot(np.arange(0, N), H.history[\"val_accuracy\"], label=\"val_acc\")\r\n",
    "plt.title(\"Training Loss and Accuracy\")\r\n",
    "plt.xlabel(\"Epoch #\")\r\n",
    "plt.ylabel(\"Loss/Accuracy\")\r\n",
    "plt.legend(loc=\"lower left\")\r\n",
    "plt.savefig(\"plot.png\")"
   ],
   "outputs": [
    {
     "output_type": "display_data",
     "data": {
      "image/png": "[encoded data removed]",
      "text/plain": [
       "<Figure size 432x288 with 1 Axes>"
      ]
     },
     "metadata": {}
    }
   ],
   "metadata": {}
  }
 ],
 "metadata": {
  "orig_nbformat": 4,
  "language_info": {
   "name": "python",
   "version": "3.9.2",
   "mimetype": "text/x-python",
   "codemirror_mode": {
    "name": "ipython",
    "version": 3
   },
   "pygments_lexer": "ipython3",
   "nbconvert_exporter": "python",
   "file_extension": ".py"
  },
  "kernelspec": {
   "name": "python3",
   "display_name": "Python 3.9.2 64-bit"
  },
  "interpreter": {
   "hash": "cf6663ca35ebd57d6121109460e534e72c1e1f8ff142ad985cdcb4b7e585eb79"
  }
 },
 "nbformat": 4,
 "nbformat_minor": 2
}